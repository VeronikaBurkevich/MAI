{
 "cells": [
  {
   "cell_type": "markdown",
   "metadata": {},
   "source": [
    "## лаба 3_3"
   ]
  },
  {
   "cell_type": "code",
   "execution_count": 6,
   "metadata": {},
   "outputs": [],
   "source": [
    "import matplotlib.pyplot as plt\n"
   ]
  },
  {
   "cell_type": "code",
   "execution_count": 7,
   "metadata": {},
   "outputs": [],
   "source": [
    "def LUP_solve(L, U, pi, b, n):\n",
    "    x = [0 for i in range(n)]\n",
    "    y = [0 for i in range(n)]\n",
    "\n",
    "    for i in range(n):\n",
    "        summ = 0\n",
    "        for j in range(i):\n",
    "            summ += L[i][j] * y[j]\n",
    "\n",
    "        y[i] = b[pi[i]] - summ\n",
    "\n",
    "    for i in range(n - 1, -1, -1):\n",
    "        sec_summ = 0\n",
    "        for j in range(i + 1, n):\n",
    "            sec_summ += U[i][j] * x[j]\n",
    "\n",
    "        x[i] = (y[i] - sec_summ) / U[i][i]\n",
    "\n",
    "    x = [round(x[i], 5) for i in range(len(x))]\n",
    "    return x\n",
    "\n",
    "\n",
    "def LUP_decompose(A, n):\n",
    "    pi = [i for i in range(n)]\n",
    "\n",
    "    for k in range(n):\n",
    "        p = 0\n",
    "        for i in range(k, n):\n",
    "            if abs(A[i][k]) > p:\n",
    "                p = abs(A[i][k])\n",
    "                tmp_k = i\n",
    "        if p == 0:\n",
    "            raise MatrixException('Matrix is degenerate')\n",
    "        pi[k], pi[tmp_k] = pi[tmp_k], pi[k]\n",
    "\n",
    "        for i in range(n):\n",
    "            A[k][i], A[tmp_k][i] = A[tmp_k][i], A[k][i]\n",
    "        for i in range(k + 1, n):\n",
    "            A[i][k] = A[i][k] / A[k][k]\n",
    "            for j in range(k + 1, n):\n",
    "                A[i][j] = A[i][j] - A[i][k] * A[k][j]\n",
    "    return pi\n",
    "\n",
    "\n",
    "def get_LU(A):\n",
    "    n = len(A)\n",
    "    L = [[0] * n for i in range(0, n)]\n",
    "    U = [[0] * n for i in range(0, n)]\n",
    "\n",
    "    for i in range(n):\n",
    "        L[i][i] = 1\n",
    "        for j in range(n):\n",
    "            if j < i:\n",
    "                L[i][j] = A[i][j]\n",
    "            else:\n",
    "                U[i][j] = A[i][j]\n",
    "    return L, U"
   ]
  },
  {
   "cell_type": "code",
   "execution_count": 8,
   "metadata": {},
   "outputs": [],
   "source": [
    "def func(x, values):\n",
    "    return sum([c * (x ** i) for i, c in enumerate(values)])\n",
    "\n",
    "\n",
    "def sse(f, y):\n",
    "    return round(sum([(f_i - y_i) ** 2 for f_i, y_i in zip(f, y)]), 5)\n",
    "\n",
    "\n",
    "def mls(n, x, y):\n",
    "    matrix = [[] for _ in range(n + 1)]\n",
    "    size = len(matrix)\n",
    "    for i in range(n + 1):\n",
    "        for j in range(n + 1):\n",
    "            matrix[i].append(sum([x_j ** (i + j) for x_j in x]))\n",
    "\n",
    "    b = [0 for _ in range(n + 1)]\n",
    "    for i in range(n + 1):\n",
    "        b[i] = sum([y_j * (x_j ** i) for x_j, y_j in zip(x, y)])\n",
    "\n",
    "    P = LUP_decompose(matrix, size)\n",
    "    L, U = get_LU(matrix)\n",
    "    new_b = LUP_solve(L, U, P, b, size)\n",
    "    return [round(i, 5) for i in new_b]\n",
    "\n",
    "\n",
    "def f_printer(coefs):\n",
    "    n = len(coefs)\n",
    "    f = f'F{n - 1}(x) = '\n",
    "    for i in range(n):\n",
    "        f += f'{coefs[i]}x^{i} + '\n",
    "    f = f[:-2]\n",
    "    return f"
   ]
  },
  {
   "cell_type": "code",
   "execution_count": 9,
   "metadata": {},
   "outputs": [
    {
     "name": "stdout",
     "output_type": "stream",
     "text": [
      "Степень = 1\n",
      "F1(x) = 6.59192x^0 + -3.7283x^1 \n",
      "Степень = 2\n",
      "F2(x) = 10.09881x^0 + -14.10744x^1 + 4.71779x^2 \n"
     ]
    },
    {
     "data": {
      "image/png": "[encoded data removed]",
      "text/plain": [
       "<Figure size 432x288 with 1 Axes>"
      ]
     },
     "metadata": {
      "needs_background": "light"
     },
     "output_type": "display_data"
    },
    {
     "name": "stdout",
     "output_type": "stream",
     "text": [
      "Ошибка F1 = 30.25411\n",
      "Ошибка F2 = 8.98185\n"
     ]
    }
   ],
   "source": [
    "#x = [0.1, 0.5, 0.9, 1.3, 1.7, 2.1]\n",
    "#y = [-2.3026, 0.69315, -0.10536, 0.26236, 0.53063, 0.74194]\n",
    "x = [0.1, 0.5, 0.9, 1.3, 1.7, 2.1]\n",
    "y = [10., 2.0, 1.1111, 0.76923, 0.58824, 0.47619]\n",
    "F = []\n",
    "err = []\n",
    "coefs = []\n",
    "\n",
    "for degree in [1, 2]:\n",
    "    print(f'Степень = {degree}')\n",
    "    coefs.append(mls(degree, x, y))\n",
    "    print(f_printer(coefs[degree - 1]))\n",
    "    F.append([func(i, coefs[degree - 1]) for i in x])\n",
    "    err.append(sse(F[degree - 1], y))\n",
    "\n",
    "plt.scatter(x, y, color='b')\n",
    "plt.plot(x, F[0], color='r', label='Function')\n",
    "plt.plot(x, F[1], color='g', label='LessSquareMethod')\n",
    "plt.legend(loc='best')\n",
    "plt.grid()\n",
    "plt.show()\n",
    "\n",
    "k = 1\n",
    "for i in err:\n",
    "    print(f'Ошибка F{k} = {i}')\n",
    "    k += 1"
   ]
  },
  {
   "cell_type": "code",
   "execution_count": null,
   "metadata": {},
   "outputs": [],
   "source": []
  },
  {
   "cell_type": "markdown",
   "metadata": {},
   "source": [
    "## лаба 3_4"
   ]
  },
  {
   "cell_type": "code",
   "execution_count": 13,
   "metadata": {},
   "outputs": [],
   "source": [
    "def find_interval(x_i, x0):\n",
    "    for i in range(len(x_i) - 1):\n",
    "        if x_i[i] <= x0 <= x_i[i + 1]:\n",
    "            return i\n",
    "\n",
    "\n",
    "def first_derivative(x_i, y_i, x0):\n",
    "    i = find_interval(x_i, x0)\n",
    "    left = (y_i[i + 1] - y_i[i]) / (x_i[i + 1] - x_i[i])\n",
    "    right = ((y_i[i + 2] - y_i[i + 1]) / (x_i[i + 2] - x_i[i + 1]) - left) / \\\n",
    "            (x_i[i + 2] - x_i[i]) * (2 * x0 - x_i[i] - x_i[i + 1])\n",
    "    return left + right\n",
    "\n",
    "\n",
    "def second_derivative(x_i, y_i, x0):\n",
    "    i = find_interval(x_i, x0)\n",
    "    left = (y_i[i + 1] - y_i[i]) / (x_i[i + 1] - x_i[i])\n",
    "    right = 2 * ((y_i[i + 2] - y_i[i + 1]) / (x_i[i + 2] - x_i[i + 1]) - left) / \\\n",
    "            (x_i[i + 2] - x_i[i])\n",
    "    return right"
   ]
  },
  {
   "cell_type": "code",
   "execution_count": 20,
   "metadata": {},
   "outputs": [
    {
     "name": "stdout",
     "output_type": "stream",
     "text": [
      "X* =  2.0 \n",
      "x_i = [0.0, 1.0, 2.0, 3.0, 4.0] \n",
      "y_i = [0.0, 1.0, 1.4142, 1.7321, 2.0]\n",
      "\n",
      "Первая производная = 0.366\n",
      "Вторая производная = -0.096\n"
     ]
    }
   ],
   "source": [
    "X = 2.\n",
    "x_i = [0., 1., 2., 3., 4.]\n",
    "y_i = [0., 1.0, 1.4142, 1.7321, 2.]\n",
    "print('X* = ', X, f'\\nx_i = {x_i}', f'\\ny_i = {y_i}')\n",
    "print(f'\\nПервая производная = {round(first_derivative(x_i, y_i, X), 3)}')\n",
    "print(f'Вторая производная = {round(second_derivative(x_i, y_i, X), 3)}')\n"
   ]
  },
  {
   "cell_type": "code",
   "execution_count": null,
   "metadata": {},
   "outputs": [],
   "source": []
  },
  {
   "cell_type": "markdown",
   "metadata": {},
   "source": [
    "## лаба 3_5"
   ]
  },
  {
   "cell_type": "code",
   "execution_count": 21,
   "metadata": {},
   "outputs": [],
   "source": [
    "import numpy as np"
   ]
  },
  {
   "cell_type": "code",
   "execution_count": 22,
   "metadata": {},
   "outputs": [],
   "source": [
    "def func(x):\n",
    "    return x / ((2 * x + 7) * (3 * x + 4))\n",
    "\n",
    "\n",
    "def get_x(x0, x, step):\n",
    "    return [i for i in np.arange(x0, x + step, step)]\n",
    "\n",
    "\n",
    "def get_y(x):\n",
    "    return [func(i) for i in x]"
   ]
  },
  {
   "cell_type": "code",
   "execution_count": 23,
   "metadata": {},
   "outputs": [],
   "source": [
    "def rectangle(x, h):\n",
    "    return h * sum([func((x[i] + x[i + 1]) / 2) for i in range(len(x) - 1)])\n",
    "\n",
    "\n",
    "def trapeze(x, h):\n",
    "    y = get_y(x)\n",
    "    return h * (y[0] / 2 + sum([y[i] for i in range(1, len(y) - 2)]) + y[len(y) - 1] / 2)\n",
    "\n",
    "\n",
    "def simpson(x, h):\n",
    "    y = get_y(x)\n",
    "    return h / 3 * (y[0] +\n",
    "                    sum([4 * y[i] for i in range(1, len(y) - 1, 2)]) +\n",
    "                    sum([2 * y[i] for i in range(2, len(y) - 2, 2)]) +\n",
    "                    y[len(y) - 1])"
   ]
  },
  {
   "cell_type": "code",
   "execution_count": 38,
   "metadata": {},
   "outputs": [],
   "source": [
    "def runge_Romberg(res, true_value):\n",
    "    k = res[1]['h'] / res[0]['h']\n",
    "    val_rec = [res[0]['rec'] + (res[0]['rec'] - res[1]['rec']) / (k ** 2 - 1),\n",
    "               abs(res[0]['rec'] + (res[0]['rec'] - res[1]['rec']) / (k ** 2 - 1) - true_value)]\n",
    "\n",
    "    val_trp = [res[0]['trp'] + (res[0]['trp'] - res[1]['trp']) / (k ** 2 - 1),\n",
    "               abs(res[0]['trp'] + (res[0]['trp'] - res[1]['trp']) / (k ** 2 - 1) - true_value)]\n",
    "\n",
    "    val_smp = [res[0]['smp'] + (res[0]['smp'] - res[1]['smp']) / (k ** 4 - 1),\n",
    "               abs(res[0]['smp'] + (res[0]['smp'] - res[1]['smp']) / (k ** 4 - 1) - true_value)]\n",
    "    \n",
    "    val_rec, val_trp, val_smp = np.around([val_rec, val_trp, val_smp], 5)\n",
    "    return {'rec': val_rec, 'trp': val_trp, 'smp': val_smp}"
   ]
  },
  {
   "cell_type": "code",
   "execution_count": 41,
   "metadata": {},
   "outputs": [
    {
     "name": "stdout",
     "output_type": "stream",
     "text": [
      "Шаг h = 0.5\n",
      "x = [-1.0, -0.5, 0.0, 0.5, 1.0]\n",
      "y = [-0.2     -0.03333  0.       0.01136  0.01587]\n",
      "Метод прямоугольников:\n",
      "Value = -0.03431\n",
      "Метода трапеций:\n",
      "Value = -0.0627\n",
      "Метод Симпсона:\n",
      "Value = -0.04533\n",
      "\n",
      "Шаг h = 0.25\n",
      "x = [-1.0, -0.75, -0.5, -0.25, 0.0, 0.25, 0.5, 0.75, 1.0]\n",
      "y = [-0.2     -0.07792 -0.03333 -0.01183  0.       0.00702  0.01136  0.01412\n",
      "  0.01587]\n",
      "Метод прямоугольников:\n",
      "Value = -0.03924\n",
      "Метода трапеций:\n",
      "Value = -0.04919\n",
      "Метод Симпсона:\n",
      "Value = -0.04188\n",
      "\n",
      "Значение интеграла: -0.04133\n",
      "Значение методом прямоугольников = -0.04089, погрешность = 0.00044\n",
      "Значение методом трапеций = -0.04469, погрешность = 0.00336\n",
      "Значение методом Симпсона = -0.04165, погрешность = 0.00032\n"
     ]
    }
   ],
   "source": [
    "x0 = -1\n",
    "x = 1\n",
    "h1, h2 = 0.5, 0.25\n",
    "true_value = -0.04133027217305138\n",
    "res = []\n",
    "for h_i in [h1, h2]:\n",
    "    print('Шаг h =', h_i)\n",
    "    X = get_x(x0, x, h_i)\n",
    "    print(f'x = {X}')\n",
    "    y = get_y(X)\n",
    "    print(f'y = {np.around(y, decimals=5)}')\n",
    "\n",
    "    print('Метод прямоугольников:')\n",
    "    res_rec = rectangle(X, h_i)\n",
    "    print(f'Value = {np.around(res_rec, decimals=5)}')\n",
    "\n",
    "    print('Метода трапеций:')\n",
    "    res_trp = trapeze(X, h_i)\n",
    "    print(f'Value = {np.around(res_trp, decimals=5)}')\n",
    "\n",
    "    print('Метод Симпсона:')\n",
    "    res_smp = simpson(X, h_i)\n",
    "    print(f'Value = {np.around(res_smp, decimals=5)}')\n",
    "    print()\n",
    "\n",
    "    res.append({\"h\": h_i,\n",
    "                \"rec\": res_rec,\n",
    "                \"trp\": res_trp,\n",
    "                \"smp\": res_smp})\n",
    "\n",
    "err = runge_Romberg(res, true_value)\n",
    "\n",
    "print(f'Значение интеграла: {np.around(true_value, 5)}')\n",
    "print('Значение методом прямоугольников = {}, погрешность = {}'.format(err['rec'][0], err['rec'][1]))\n",
    "print('Значение методом трапеций = {}, погрешность = {}'.format(err['trp'][0], err['trp'][1]))\n",
    "print('Значение методом Симпсона = {}, погрешность = {}'.format(err['smp'][0], err['smp'][1]))"
   ]
  },
  {
   "cell_type": "code",
   "execution_count": null,
   "metadata": {},
   "outputs": [],
   "source": []
  }
 ],
 "metadata": {
  "kernelspec": {
   "display_name": "Python 3",
   "language": "python",
   "name": "python3"
  },
  "language_info": {
   "codemirror_mode": {
    "name": "ipython",
    "version": 3
   },
   "file_extension": ".py",
   "mimetype": "text/x-python",
   "name": "python",
   "nbconvert_exporter": "python",
   "pygments_lexer": "ipython3",
   "version": "3.7.3"
  }
 },
 "nbformat": 4,
 "nbformat_minor": 2
}
