{
 "cells": [
  {
   "cell_type": "code",
   "execution_count": 1,
   "metadata": {},
   "outputs": [],
   "source": [
    "import pandas as pd\n",
    "import numpy as np\n",
    "\n",
    "import math"
   ]
  },
  {
   "cell_type": "markdown",
   "metadata": {},
   "source": [
    "## лаба 1.2 прогонка"
   ]
  },
  {
   "cell_type": "code",
   "execution_count": 5,
   "metadata": {},
   "outputs": [],
   "source": [
    "def rev(vec):\n",
    "    tmp = vec.copy()\n",
    "    tmp = [int(vec[len(vec)-1-i]) for i in range(len(vec))]\n",
    "    return tmp\n",
    "\n",
    "def get_file(x):\n",
    "    y, vec = [], []\n",
    "    i = 0\n",
    "    f = open(x)\n",
    "    for line in f:\n",
    "        line = line.split()\n",
    "        y += line\n",
    "\n",
    "    f.close()\n",
    "    y = np.array(y)\n",
    "    sz = int(((1+len(y)*4)**0.5-1)*0.5)\n",
    "    mat = np.zeros((sz*(sz+1)))\n",
    "\n",
    "    for i in range(len(y)):\n",
    "        mat[i] = int(y[i])\n",
    "\n",
    "    vec = np.array(mat[::-1][:sz])\n",
    "    mat = np.array(mat[:-sz])\n",
    "    mat.shape = (sz,sz)\n",
    "    vect = rev(vec)\n",
    "    print(mat, vect)\n",
    "    return mat, vect"
   ]
  },
  {
   "cell_type": "code",
   "execution_count": 6,
   "metadata": {},
   "outputs": [],
   "source": [
    "def tdma(mat, vec):\n",
    "    sz = len(mat)\n",
    "    x = np.zeros(sz)\n",
    "    p = np.zeros(sz)\n",
    "    q = np.zeros(sz)\n",
    "\n",
    "    \n",
    "    i = 0\n",
    "    \n",
    "    p[i] = -int(mat[i][i+1])/int(mat[i][i])\n",
    "    q[i] = int(vec[i])/int(mat[i][i])\n",
    "    \n",
    "    for i in range(1,sz):\n",
    "        if i == sz-1: \n",
    "            p[i]=0\n",
    "        else:\n",
    "            p[i] = -int(mat[i][i+1]) / (int(mat[i][i-1]) * p[i-1] + int(mat[i][i]))\n",
    "        q[i] = (int(vec[i]) - int(mat[i][i-1]) * q[i-1]) / (int(mat[i][i-1]) * p[i-1] + int(mat[i][i]))\n",
    "    \n",
    "    x[sz-1] = q[sz-1]\n",
    "    for i in range(sz-2,-1,-1):\n",
    "        x[i] = p[i] * x[i+1] + q[i]\n",
    "\n",
    "    return x    \n",
    "    \n",
    "def progon(x):\n",
    "    mat, vec = get_file(x)\n",
    "    res = tdma(mat, vec)\n",
    "    print ('\\n',res)"
   ]
  },
  {
   "cell_type": "code",
   "execution_count": 7,
   "metadata": {},
   "outputs": [
    {
     "name": "stdout",
     "output_type": "stream",
     "text": [
      "[[  8.   4.   0.   0.   0.]\n",
      " [ -5.  22.   8.   0.   0.]\n",
      " [  0.  -5. -11.   4.   0.]\n",
      " [  0.   0.  -9. -15.   1.]\n",
      " [  0.   0.   0.   1.   7.]] [48, 125, -43, 18, -23]\n",
      "\n",
      " [ 2.9165929   6.1668142   0.4891315  -1.69637061 -3.04337563]\n"
     ]
    }
   ],
   "source": [
    "progon('lab1_2.txt')"
   ]
  },
  {
   "cell_type": "markdown",
   "metadata": {},
   "source": [
    "## лаба 1.1 LU-разложение"
   ]
  },
  {
   "cell_type": "code",
   "execution_count": 8,
   "metadata": {},
   "outputs": [],
   "source": [
    "from random import randint\n",
    "\n",
    "\n",
    "class MatrixException(Exception):\n",
    "    pass\n",
    "\n",
    "\n",
    "def getCofactor(A, tmp, p, q, n):  # Function to get cofactor of A[p][q] in tmp[][]\n",
    "    i = 0\n",
    "    j = 0\n",
    "    # Copying into temporary matrix only those element which are not in given row and column\n",
    "    for row in range(n):\n",
    "        for col in range(n):\n",
    "            if row != p and col != q:\n",
    "                tmp[i][j] = A[row][col]\n",
    "                j += 1\n",
    "\n",
    "                if j == n - 1:\n",
    "                    j = 0\n",
    "                    i += 1\n",
    "\n",
    "\n",
    "def determinant(A, n):\n",
    "    D = 0\n",
    "    if n == 1:\n",
    "        return A[0][0]\n",
    "\n",
    "    tmp = [[0] * n for _ in range(n)]  # Cofactors\n",
    "    sign = 1  # Plus or minus\n",
    "\n",
    "    for i in range(n):\n",
    "        getCofactor(A, tmp, 0, i, n)\n",
    "        D += sign * A[0][i] * determinant(tmp, n - 1)\n",
    "\n",
    "        sign = -sign\n",
    "\n",
    "    return D\n",
    "\n",
    "\n",
    "def adjoin(A, n):  # Сопряженная\n",
    "    adj = [[0] * n for _ in range(n)]\n",
    "    if n == 1:\n",
    "        adj[0][0] = 1\n",
    "        return\n",
    "\n",
    "    tmp = [[0] * n for _ in range(n)]  # Cofactors\n",
    "    sign = 1  # Plus or minusn\n",
    "    for i in range(n):\n",
    "        for j in range(n):\n",
    "            getCofactor(A, tmp, i, j, n)  # Cofactor A[i][j]\n",
    "\n",
    "            if (i + j) % 2 == 0:\n",
    "                sign = 1\n",
    "            else:\n",
    "                sign = -1\n",
    "\n",
    "            adj[j][i] = (sign) * (determinant(tmp, n - 1))  # transpose of the cofactor matrix\n",
    "\n",
    "    return adj\n",
    "\n",
    "\n",
    "def inverse(A, B, n):\n",
    "    det = determinant(A, n)\n",
    "    if det == 0:\n",
    "        print(\"Singular matrix, can't find its inverse\")\n",
    "        return False\n",
    "\n",
    "    adj = adjoin(A, n)\n",
    "\n",
    "    for i in range(n):\n",
    "        for j in range(n):\n",
    "            B[i][j] = adj[i][j] / det\n",
    "\n",
    "    return True\n",
    "\n",
    "\n",
    "def transpose(A, n):\n",
    "    B = [[0] * n for _ in range(n)]\n",
    "    for i in range(n):\n",
    "        for j in range(n):\n",
    "            B[i][j] = A[j][i]\n",
    "    return B\n",
    "\n",
    "\n",
    "def multi(M1, M2):\n",
    "    sum = 0  # сумма\n",
    "    tmp = []  # временная матрица\n",
    "    ans = []  # конечная матрица\n",
    "    if len(M2) != len(M1[0]):\n",
    "        raise MatrixException('Matrix can\\'t be multiplied')\n",
    "    else:\n",
    "        row1 = len(M1)  # количество строк в первой матрице\n",
    "        col1 = len(M1[0])  # Количество столбцов в 1\n",
    "        row2 = col1  # и строк во 2ой матрице\n",
    "        col2 = len(M2[0])  # количество столбцов во 2ой матрице\n",
    "        for k in range(0, row1):\n",
    "            for j in range(0, col2):\n",
    "                for i in range(0, col1):\n",
    "                    sum = round(sum + M1[k][i] * M2[i][j], 8)\n",
    "                tmp.append(sum)\n",
    "                sum = 0\n",
    "            ans.append(tmp)\n",
    "            tmp = []\n",
    "    return ans\n",
    "\n",
    "\n",
    "def show(A, n):\n",
    "    for i in range(0, n):\n",
    "        for j in range(0, n):\n",
    "            print(\"\\t\", A[i][j], \" \", end=\"\")\n",
    "        print(\"\\n\")\n",
    "\n",
    "\n",
    "def LUP_solve(L, U, pi, b, n):\n",
    "    x = [0 for i in range(n)]\n",
    "    y = [0 for i in range(n)]\n",
    "\n",
    "    for i in range(n):\n",
    "        summ = 0\n",
    "        for j in range(i):\n",
    "            summ += L[i][j] * y[j]\n",
    "\n",
    "        y[i] = b[pi[i]] - summ\n",
    "\n",
    "    for i in range(n - 1, -1, -1):\n",
    "        sec_summ = 0\n",
    "        for j in range(i + 1, n):\n",
    "            sec_summ += U[i][j] * x[j]\n",
    "\n",
    "        x[i] = (y[i] - sec_summ) / U[i][i]\n",
    "\n",
    "    x = [round(x[i], 5) for i in range(len(x))]\n",
    "    return x\n",
    "\n",
    "\n",
    "def LUP_decompose(A, n):\n",
    "    pi = [i for i in range(n)]\n",
    "\n",
    "    for k in range(n):\n",
    "        p = 0\n",
    "        for i in range(k, n):\n",
    "            if abs(A[i][k]) > p:\n",
    "                p = abs(A[i][k])\n",
    "                tmp_k = i\n",
    "        if p == 0:\n",
    "            raise MatrixException('Matrix is degenerate')\n",
    "        pi[k], pi[tmp_k] = pi[tmp_k], pi[k]\n",
    "\n",
    "        for i in range(n):\n",
    "            A[k][i], A[tmp_k][i] = A[tmp_k][i], A[k][i]\n",
    "        for i in range(k + 1, n):\n",
    "            A[i][k] = A[i][k] / A[k][k]\n",
    "            for j in range(k + 1, n):\n",
    "                A[i][j] = A[i][j] - A[i][k] * A[k][j]\n",
    "    return pi\n",
    "\n",
    "\n",
    "def get_LU(A):\n",
    "    n = len(A)\n",
    "    L = [[0] * n for i in range(0, n)]\n",
    "    U = [[0] * n for i in range(0, n)]\n",
    "\n",
    "    for i in range(n):\n",
    "        L[i][i] = 1\n",
    "        for j in range(n):\n",
    "            if j < i:\n",
    "                L[i][j] = A[i][j]\n",
    "            else:\n",
    "                U[i][j] = A[i][j]\n",
    "    return L, U"
   ]
  },
  {
   "cell_type": "code",
   "execution_count": 9,
   "metadata": {},
   "outputs": [],
   "source": [
    "def open_matr_vec(x):\n",
    "    y, vec = [], []\n",
    "    i = 0\n",
    "    f = open(x)\n",
    "    for line in f:\n",
    "        line = line.split()\n",
    "        #for i in range(3):\n",
    "        #arr = np.array(line)\n",
    "        #arr.append(arr)\n",
    "        y += line\n",
    "    \n",
    "    f.close()\n",
    "    y = np.array(y)\n",
    "    sz = int(((1+len(y)*4)**0.5-1)*0.5)\n",
    "    mat = np.zeros((sz*(sz+1)))\n",
    "\n",
    "    for i in range(len(y)):\n",
    "        mat[i] = int(y[i])\n",
    "\n",
    "    vec = np.array(mat[::-1][:sz])\n",
    "    mat = np.array(mat[:-sz])\n",
    "    mat.shape = (sz,sz)\n",
    "    vect = rev(vec)\n",
    "    print(mat, vect)\n",
    "    return mat, vect\n",
    "   \n",
    "def method_lu(x):\n",
    "    mat, vec = open_matr_vec(x)\n",
    "    n = len(mat)\n",
    "    print(\"Start:\")\n",
    "    show(mat, n)\n",
    "    print(\"The Adjoint is :\\n\")\n",
    "\n",
    "    inv = [[0] * n for _ in range(n)]\n",
    "\n",
    "    adj = adjoin(mat, n)\n",
    "    show(adj, n)\n",
    "\n",
    "    print(\"The Inverse is :\\n\")\n",
    "    if inverse(mat, inv, n):\n",
    "        show(inv, n)\n",
    "\n",
    "    pi = LUP_decompose(mat, n)\n",
    "    print(\"A after LUP:\")\n",
    "    show(mat, n)\n",
    "\n",
    "    L, U = get_LU(mat)\n",
    "    print(\"L:\")\n",
    "    show(L, n)\n",
    "    print(\"U:\")\n",
    "    show(U, n)\n",
    "    print(\"A:\\n\")\n",
    "    R = multi(L, U)\n",
    "    show(R, n)\n",
    "    print(LUP_solve(L, U, pi, vec, n))"
   ]
  },
  {
   "cell_type": "code",
   "execution_count": 12,
   "metadata": {},
   "outputs": [
    {
     "name": "stdout",
     "output_type": "stream",
     "text": [
      "[[ 3. -8.  1. -7.]\n",
      " [ 6.  4.  8.  5.]\n",
      " [-1.  1. -9. -3.]\n",
      " [-6.  6.  9. -4.]] [96, -13, -54, 82]\n",
      "Start:\n",
      "\t 3.0  \t -8.0  \t 1.0  \t -7.0  \n",
      "\n",
      "\t 6.0  \t 4.0  \t 8.0  \t 5.0  \n",
      "\n",
      "\t -1.0  \t 1.0  \t -9.0  \t -3.0  \n",
      "\n",
      "\t -6.0  \t 6.0  \t 9.0  \t -4.0  \n",
      "\n",
      "The Adjoint is :\n",
      "\n",
      "\t 455.0  \t 959.0  \t 746.0  \t -157.0  \n",
      "\n",
      "\t -175.0  \t 644.0  \t 951.0  \t 398.0  \n",
      "\n",
      "\t 140.0  \t 70.0  \t -510.0  \t 225.0  \n",
      "\n",
      "\t -630.0  \t -315.0  \t -840.0  \t -490.0  \n",
      "\n",
      "The Inverse is :\n",
      "\n",
      "\t 0.06220095693779904  \t 0.13110047846889952  \t 0.10198222829801777  \t -0.021462747778537253  \n",
      "\n",
      "\t -0.023923444976076555  \t 0.08803827751196172  \t 0.13000683526999315  \t 0.054408749145591254  \n",
      "\n",
      "\t 0.019138755980861243  \t 0.009569377990430622  \t -0.06971975393028025  \t 0.030758714969241284  \n",
      "\n",
      "\t -0.0861244019138756  \t -0.0430622009569378  \t -0.11483253588516747  \t -0.06698564593301436  \n",
      "\n",
      "A after LUP:\n",
      "\t 6.0  \t 4.0  \t 8.0  \t 5.0  \n",
      "\n",
      "\t 0.5  \t -10.0  \t -3.0  \t -9.5  \n",
      "\n",
      "\t -1.0  \t -1.0  \t 14.0  \t -8.5  \n",
      "\n",
      "\t -0.16666666666666666  \t -0.16666666666666666  \t -0.5833333333333334  \t -8.708333333333334  \n",
      "\n",
      "L:\n",
      "\t 1  \t 0  \t 0  \t 0  \n",
      "\n",
      "\t 0.5  \t 1  \t 0  \t 0  \n",
      "\n",
      "\t -1.0  \t -1.0  \t 1  \t 0  \n",
      "\n",
      "\t -0.16666666666666666  \t -0.16666666666666666  \t -0.5833333333333334  \t 1  \n",
      "\n",
      "U:\n",
      "\t 6.0  \t 4.0  \t 8.0  \t 5.0  \n",
      "\n",
      "\t 0  \t -10.0  \t -3.0  \t -9.5  \n",
      "\n",
      "\t 0  \t 0  \t 14.0  \t -8.5  \n",
      "\n",
      "\t 0  \t 0  \t 0  \t -8.708333333333334  \n",
      "\n",
      "A:\n",
      "\n",
      "\t 6.0  \t 4.0  \t 8.0  \t 5.0  \n",
      "\n",
      "\t 3.0  \t -8.0  \t 1.0  \t -7.0  \n",
      "\n",
      "\t -6.0  \t 6.0  \t 9.0  \t -4.0  \n",
      "\n",
      "\t -1.0  \t 1.0  \t -9.0  \t -3.0  \n",
      "\n",
      "[-3.0, -6.0, 8.0, -7.0]\n"
     ]
    }
   ],
   "source": [
    "method_lu('lab1_0.txt')"
   ]
  },
  {
   "cell_type": "code",
   "execution_count": null,
   "metadata": {},
   "outputs": [],
   "source": []
  },
  {
   "cell_type": "markdown",
   "metadata": {},
   "source": [
    "## лаба 1.3"
   ]
  },
  {
   "cell_type": "markdown",
   "metadata": {},
   "source": [
    "### метод простых итераций (Якоби)"
   ]
  },
  {
   "cell_type": "code",
   "execution_count": 8,
   "metadata": {},
   "outputs": [],
   "source": [
    "def open_matr(x):\n",
    "    y, vec = [], []\n",
    "    i = 0\n",
    "    f = open(x)\n",
    "    for line in f:\n",
    "        line = line.split()\n",
    "        #for i in range(3):\n",
    "        #arr = np.array(line)\n",
    "        #arr.append(arr)\n",
    "        y += line\n",
    "\n",
    "    f.close()\n",
    "    y = np.array(y)\n",
    "    sz = float(((1+len(y)*4)**0.5-1)*0.5)\n",
    "    mat = np.zeros((sz*(sz+1)))\n",
    "\n",
    "    for i in range(len(y)):\n",
    "        mat[i] = int(y[i])\n",
    "\n",
    "    vec = np.array(mat[::-1][:sz])\n",
    "    mat = np.array(mat[:-sz])\n",
    "    mat.shape = (sz,sz)\n",
    "    print(mat, vec)\n",
    "    return mat, vec"
   ]
  },
  {
   "cell_type": "code",
   "execution_count": 9,
   "metadata": {},
   "outputs": [],
   "source": [
    "def open_matr_vec_eps(x):\n",
    "    y, vec = [], []\n",
    "    i = 0\n",
    "    f = open(x)\n",
    "    for line in f:\n",
    "        line = line.split()\n",
    "        #for i in range(3):\n",
    "        #arr = np.array(line)\n",
    "        #arr.append(arr)\n",
    "        y += line\n",
    "\n",
    "    f.close()\n",
    "    y = np.array(y)\n",
    "    epsilon = float(y[-1])\n",
    "    size = int(((len(y)-1)**0.5))\n",
    "    #size = int((len(y)-1)/5)\n",
    "    mat = np.zeros(len(y)-1)\n",
    "    for i in range(len(y)-1):\n",
    "        mat[i] = int(y[i])\n",
    "    vec = np.array(mat[::-1][:size])\n",
    "    mat = np.array(mat[:-size])\n",
    "    mat.shape = (size,size)\n",
    "    print(mat, vec, epsilon)\n",
    "    return mat, vec, epsilon"
   ]
  },
  {
   "cell_type": "code",
   "execution_count": 10,
   "metadata": {},
   "outputs": [
    {
     "name": "stdout",
     "output_type": "stream",
     "text": [
      "[[ 20.   5.   7.   1.]\n",
      " [ -1.  13.   0.  -7.]\n",
      " [  4.  -6.  17.   5.]\n",
      " [ -9.   8.   4. -25.]] [ -21.   49.   -1. -117.] 0.01\n"
     ]
    }
   ],
   "source": [
    "mat, vec, epsilon = open_matr_vec_eps('lab1_3.txt')"
   ]
  },
  {
   "cell_type": "code",
   "execution_count": 11,
   "metadata": {},
   "outputs": [],
   "source": [
    "\n",
    "# поиск значений бета\n",
    "def find_beta(mat, vec):\n",
    "    beta1 = []\n",
    "    beta = np.zeros(len(vec))\n",
    "    for i in range(len(vec)):\n",
    "        beta[i] = vec[len(vec)-i-1]/mat[i][i]\n",
    "    #print(beta)\n",
    "    return beta"
   ]
  },
  {
   "cell_type": "code",
   "execution_count": 12,
   "metadata": {},
   "outputs": [
    {
     "data": {
      "text/plain": [
       "array([-5.85      , -0.07692308,  2.88235294,  0.84      ])"
      ]
     },
     "execution_count": 12,
     "metadata": {},
     "output_type": "execute_result"
    }
   ],
   "source": [
    "beta = find_beta(mat, vec)\n",
    "beta"
   ]
  },
  {
   "cell_type": "code",
   "execution_count": 13,
   "metadata": {},
   "outputs": [],
   "source": [
    "# поиск матрицы альфа\n",
    "def find_alpha(mat):\n",
    "    alpha = np.zeros((len(mat),len(mat)))\n",
    "    for i in range(len(mat)):\n",
    "        for j in range(len(mat)):\n",
    "            if i==j:\n",
    "                alpha[i][j] = 0\n",
    "            else:    \n",
    "                alpha[i][j] = -mat[i][j]/mat[i][i]\n",
    "    return alpha"
   ]
  },
  {
   "cell_type": "code",
   "execution_count": 14,
   "metadata": {},
   "outputs": [
    {
     "data": {
      "text/plain": [
       "array([[ 0.        , -0.25      , -0.35      , -0.05      ],\n",
       "       [ 0.07692308,  0.        , -0.        ,  0.53846154],\n",
       "       [-0.23529412,  0.35294118,  0.        , -0.29411765],\n",
       "       [-0.36      ,  0.32      ,  0.16      ,  0.        ]])"
      ]
     },
     "execution_count": 14,
     "metadata": {},
     "output_type": "execute_result"
    }
   ],
   "source": [
    "alpha = find_alpha(mat)\n",
    "alpha"
   ]
  },
  {
   "cell_type": "code",
   "execution_count": 15,
   "metadata": {},
   "outputs": [
    {
     "data": {
      "text/plain": [
       "0.6153846153846154"
      ]
     },
     "execution_count": 15,
     "metadata": {},
     "output_type": "execute_result"
    }
   ],
   "source": [
    "def norma_mat(mat):\n",
    "    norm = np.zeros(len(beta))\n",
    "    for i in range(len(beta)):\n",
    "        for j in range(len(beta)):\n",
    "            norm[i] += mat[i][j]\n",
    "    norma = max(norm)\n",
    "    return norma\n",
    "\n",
    "def norma(x,y):\n",
    "    summa = 0\n",
    "    for i in range(len(x)):\n",
    "        summa += (x[i]-y[i])**2\n",
    "    res = summa**0.5\n",
    "    return res\n",
    "\n",
    "norma_mat(alpha)"
   ]
  },
  {
   "cell_type": "code",
   "execution_count": 16,
   "metadata": {},
   "outputs": [],
   "source": [
    "def iterasion(x_0,x_1):\n",
    "    #print(x_0, x_1)\n",
    "    if (norma_mat(alpha) < 1):\n",
    "        eps = norma_mat(alpha)/(1-norma_mat(alpha))*norma(x_1, x_0)\n",
    "    else:\n",
    "        eps = norma(x_1,x_0)\n",
    "    if (eps<=epsilon):\n",
    "        print('final x =',x_1,', epsilon =',eps)\n",
    "        #break\n",
    "    else:\n",
    "        x_0 = x_1\n",
    "        x_1 = beta + alpha.dot(x_0)\n",
    "        print('eps =',eps,'>',epsilon)\n",
    "        iterasion(x_0,x_1)"
   ]
  },
  {
   "cell_type": "code",
   "execution_count": 17,
   "metadata": {},
   "outputs": [
    {
     "name": "stdout",
     "output_type": "stream",
     "text": [
      "eps = 4.7311835829058415 > 0.01\n",
      "eps = 2.5207812740450244 > 0.01\n",
      "eps = 1.169917752347546 > 0.01\n",
      "eps = 0.6601266149931471 > 0.01\n",
      "eps = 0.3542559093189697 > 0.01\n",
      "eps = 0.20108677554126908 > 0.01\n",
      "eps = 0.10985606183755829 > 0.01\n",
      "eps = 0.062431988372992124 > 0.01\n",
      "eps = 0.034452179840560974 > 0.01\n",
      "eps = 0.01954162357180484 > 0.01\n",
      "eps = 0.010865978340489404 > 0.01\n",
      "final x = [-7.9978861   1.99721773  3.99896611  4.99671502] , epsilon = 0.006150391622279893\n"
     ]
    }
   ],
   "source": [
    "x_0 = np.copy(beta)\n",
    "x_1 = beta + alpha.dot(x_0)\n",
    "iterasion(x_0,x_1)"
   ]
  },
  {
   "cell_type": "code",
   "execution_count": null,
   "metadata": {},
   "outputs": [],
   "source": []
  },
  {
   "cell_type": "markdown",
   "metadata": {},
   "source": [
    "### метод Зейделя"
   ]
  },
  {
   "cell_type": "code",
   "execution_count": 18,
   "metadata": {},
   "outputs": [
    {
     "data": {
      "text/plain": [
       "(array([[ 0.        ,  0.        ,  0.        ,  0.        ],\n",
       "        [ 0.07692308,  0.        ,  0.        ,  0.        ],\n",
       "        [-0.23529412,  0.35294118,  0.        ,  0.        ],\n",
       "        [-0.36      ,  0.32      ,  0.16      ,  0.        ]]),\n",
       " array([[ 0.        , -0.25      , -0.35      , -0.05      ],\n",
       "        [ 0.        ,  0.        , -0.        ,  0.53846154],\n",
       "        [ 0.        ,  0.        ,  0.        , -0.29411765],\n",
       "        [ 0.        ,  0.        ,  0.        ,  0.        ]]))"
      ]
     },
     "execution_count": 18,
     "metadata": {},
     "output_type": "execute_result"
    }
   ],
   "source": [
    "#получение матриц В-нижняя треугольная и С-верхняя треугольная\n",
    "\n",
    "B = np.copy(alpha)\n",
    "C = np.copy(alpha)\n",
    "\n",
    "for i in range(len(alpha)):\n",
    "    for j in range(len(alpha)):\n",
    "        if (i>j):\n",
    "            C[i][j] = 0\n",
    "        else:\n",
    "            B[i][j] = 0\n",
    "B, C"
   ]
  },
  {
   "cell_type": "code",
   "execution_count": 19,
   "metadata": {},
   "outputs": [],
   "source": [
    "def new_x(x_0):\n",
    "    x_0 = np.copy(x_0)\n",
    "    x = np.zeros(len(x_0))\n",
    "    for i in range(len(x_0)):\n",
    "        x[i] = beta[i]\n",
    "        for j in range(len(x_0)):\n",
    "            if (i>j):\n",
    "                x[i] += B[i][j]*x[j]\n",
    "            else:\n",
    "                x[i] += C[i][j]*x_0[j]\n",
    "    return x"
   ]
  },
  {
   "cell_type": "code",
   "execution_count": 20,
   "metadata": {},
   "outputs": [],
   "source": [
    "def it_Zeydelya(x_0,x):\n",
    "    print(x_0, x)\n",
    "    if (norma_mat(alpha) < 1):\n",
    "        eps = norma_mat(C)/(1-norma_mat(alpha))*norma(x, x_0)\n",
    "    else:\n",
    "        eps = norma(x,x_0)\n",
    "    \n",
    "    if (eps<=epsilon):\n",
    "        print('\\n FINAL x =',x, 'epsilon =',eps)\n",
    "    else:\n",
    "        x_0 = x\n",
    "        x = new_x(x_0)\n",
    "        print('eps =',eps,'>',epsilon)\n",
    "        it_Zeydelya(x_0,x)"
   ]
  },
  {
   "cell_type": "code",
   "execution_count": 21,
   "metadata": {},
   "outputs": [
    {
     "name": "stdout",
     "output_type": "stream",
     "text": [
      "[-5.85       -0.07692308  2.88235294  0.84      ] [0. 0. 0. 0.]\n",
      "eps = 9.206208353554304 > 0.01\n",
      "[0. 0. 0. 0.] [-5.85       -0.52692308  4.07285068  3.42904072]\n",
      "eps = 11.098616963355118 > 0.01\n",
      "[-5.85       -0.52692308  4.07285068  3.42904072] [-7.315219    1.20677431  4.0209599   4.50300021]\n",
      "eps = 3.516385044485833 > 0.01\n",
      "[-7.315219    1.20677431  4.0209599   4.50300021] [-7.78417955  1.7489863   4.00680206  4.84306858]\n",
      "eps = 1.1110080871384063 > 0.01\n",
      "[-7.78417955  1.7489863   4.00680206  4.84306858] [-7.93178072  1.9207461   4.00213274  4.95042105]\n",
      "eps = 0.35093365173364643 > 0.01\n",
      "[-7.93178072  1.9207461   4.00213274  4.95042105] [-7.97845404  1.97496103  4.00067512  4.984339  ]\n",
      "eps = 0.1108585009839247 > 0.01\n",
      "[-7.97845404  1.97496103  4.00067512  4.984339  ] [-7.9931935   1.99209073  4.00021314  4.9950528 ]\n",
      "eps = 0.035018960263187744 > 0.01\n",
      "[-7.9931935   1.99209073  4.00021314  4.9950528 ] [-7.99784992  1.99750151  4.00006734  4.99843723]\n",
      "eps = 0.01106216775980048 > 0.01\n",
      "[-7.99784992  1.99750151  4.00006734  4.99843723] [-7.99932081  1.99921075  4.00002127  4.99950634]\n",
      "\n",
      " FINAL x = [-7.99932081  1.99921075  4.00002127  4.99950634] epsilon = 0.0034944309927332465\n"
     ]
    }
   ],
   "source": [
    "x_0 = np.copy(beta)\n",
    "x = np.zeros(len(x_0))\n",
    "eps = 0\n",
    "it_Zeydelya(x_0,x)"
   ]
  },
  {
   "cell_type": "code",
   "execution_count": null,
   "metadata": {},
   "outputs": [],
   "source": []
  },
  {
   "cell_type": "markdown",
   "metadata": {},
   "source": [
    "## лаба 1.4 метод вращений"
   ]
  },
  {
   "cell_type": "code",
   "execution_count": 14,
   "metadata": {},
   "outputs": [],
   "source": [
    "def open_mat_eps(x):\n",
    "    y, vec = [], []\n",
    "    i = 0\n",
    "    f = open(x)\n",
    "    for line in f:\n",
    "        line = line.split()\n",
    "        #for i in range(3):\n",
    "        #arr = np.array(line)\n",
    "        #arr.append(arr)\n",
    "        y += line\n",
    "\n",
    "    f.close()\n",
    "    y = np.array(y)\n",
    "    epsilon = float(y[-1])\n",
    "    #sz = int(((1+len(y)*4)**0.5-1)*0.5)\n",
    "    sz = int(((len(y)-1)**0.5))\n",
    "    mat = np.zeros(len(y)-1)\n",
    "\n",
    "    for i in range(len(y)-1):\n",
    "        mat[i] = int(y[i])\n",
    "\n",
    "    #vec = np.array(mat[::-1][:sz])\n",
    "    #mat = np.array(mat[:-sz])\n",
    "    mat.shape = (sz,sz)\n",
    "    print(mat, epsilon)\n",
    "    return mat, epsilon"
   ]
  },
  {
   "cell_type": "code",
   "execution_count": 15,
   "metadata": {},
   "outputs": [
    {
     "name": "stdout",
     "output_type": "stream",
     "text": [
      "[[ 0. -7.  7.]\n",
      " [-7. -9. -5.]\n",
      " [ 7. -5. -1.]] 0.1\n"
     ]
    }
   ],
   "source": [
    "mat, epsilon = open_mat_eps('lab1_4.txt')"
   ]
  },
  {
   "cell_type": "code",
   "execution_count": 16,
   "metadata": {},
   "outputs": [],
   "source": [
    "# поиск максимального внедиагонального элемента\n",
    "def find_fi(mat):\n",
    "    max_el = (mat[0][1])\n",
    "    i_el = 0\n",
    "    j_el = 1\n",
    "    for i in range(len(mat)):\n",
    "        for j in range(len(mat)):\n",
    "            if (i != j):\n",
    "                if (abs(max_el) < abs(mat[i][j])):\n",
    "                    max_el = (mat[i][j])\n",
    "                    i_el = i\n",
    "                    j_el = j\n",
    "    fi = 0.5*math.atan(2*max_el/(mat[i_el][i_el]-mat[j_el][j_el]))\n",
    "    return fi,i_el,j_el, max_el\n",
    "\n",
    "def find_mat_U(fi,i_el,j_el,sz):\n",
    "    U = np.eye(sz)\n",
    "    U[i_el][i_el] = math.cos(fi)\n",
    "    U[j_el][j_el] = math.cos(fi)\n",
    "    U[i_el][j_el] = -math.sin(fi)\n",
    "    U[j_el][i_el] = math.sin(fi)   \n",
    "    #U = np.around(U, decimals=2)\n",
    "    return U\n",
    "\n",
    "def find_A(mat, U):\n",
    "    #A = U.transpose().dot(mat).dot(U)\n",
    "    t = U.transpose().dot(mat)\n",
    "    A = t.dot(U)\n",
    "    #A = np.around(A, decimals=2)\n",
    "    return A\n",
    "        \n",
    "\n",
    "def stop(A,i_el,j_el):\n",
    "    summ = 0\n",
    "    if (i_el<j_el): #Значит верхняя треугольная\n",
    "        for i in range(len(A)):\n",
    "            for j in range(len(A)):\n",
    "                if (i<j):\n",
    "                    summ += A[i][j]**2\n",
    "        eps = summ**0.5\n",
    "    if (i_el>j_el): #Значит нижняя треугольная\n",
    "        for i in range(len(A)):\n",
    "            for j in range(len(A)):\n",
    "                if (i>j):\n",
    "                    summ += A[i][j]**2\n",
    "        eps = summ**0.5\n",
    "    return eps  \n",
    "\n",
    "\n",
    "def method_vrash(mat, epsilon, it, z):\n",
    "    \n",
    "    fi,i_el,j_el,q = find_fi(mat)\n",
    "    U = find_mat_U(fi,i_el,j_el,len(mat))\n",
    "    U = np.around(U,decimals=2)\n",
    "    z = z.dot(U)\n",
    "    A = find_A(mat, U)\n",
    "    eps = stop(A,i_el,j_el)\n",
    "    #A = np.around(A, decimals=4)\n",
    "    if (eps > epsilon):\n",
    "        #print(it, i_el, j_el, A)\n",
    "        it += 1\n",
    "        method_vrash(A, epsilon, it, z)\n",
    "    else:\n",
    "        #print('FINAL A on it',it, A, 'eps =', eps)\n",
    "        for i in range(len(z)):\n",
    "            print (\"x\",i+1,\"=\",z.T[i], \"\\n\")\n",
    "    \n",
    "    \n",
    "def sobstv(a, epsilon):\n",
    "    z = np.eye(len(a))\n",
    "    method_vrash(a,epsilon,1,z)"
   ]
  },
  {
   "cell_type": "code",
   "execution_count": 17,
   "metadata": {},
   "outputs": [
    {
     "name": "stdout",
     "output_type": "stream",
     "text": [
      "x 1 = [ 0.6861728 -0.4099008  0.60432  ] \n",
      "\n",
      "x 2 = [0.41712 0.90288 0.138  ] \n",
      "\n",
      "x 3 = [-0.6016412   0.15723432  0.786036  ] \n",
      "\n"
     ]
    }
   ],
   "source": [
    "sobstv(mat, epsilon)"
   ]
  },
  {
   "cell_type": "code",
   "execution_count": null,
   "metadata": {},
   "outputs": [],
   "source": []
  },
  {
   "cell_type": "markdown",
   "metadata": {},
   "source": [
    "## лаба 1.5 QR"
   ]
  },
  {
   "cell_type": "code",
   "execution_count": 18,
   "metadata": {},
   "outputs": [
    {
     "name": "stdout",
     "output_type": "stream",
     "text": [
      "[[ 5.  8. -2.]\n",
      " [ 7. -2. -4.]\n",
      " [ 5.  8. -1.]] 0.3\n"
     ]
    }
   ],
   "source": [
    "mat, epsilon = open_mat_eps('lab1_5.txt')"
   ]
  },
  {
   "cell_type": "code",
   "execution_count": 19,
   "metadata": {},
   "outputs": [],
   "source": [
    "def find_nu(mat,j):\n",
    "    nu_temp = 0\n",
    "    nu = np.copy(mat.T[j])\n",
    "    for i in range(len(mat)):\n",
    "        if (j<=i):\n",
    "            nu_temp += mat[i][j]**2\n",
    "    nu[j] += (nu[j]/abs(nu[j]))*nu_temp**0.5\n",
    "    nu = np.around(nu, decimals=2)\n",
    "    return nu\n",
    "\n",
    "def mat_Haus(nu):\n",
    "    H = np.eye(len(nu))\n",
    "    nu.shape = (3,1)\n",
    "    H -= 2*(nu.dot(nu.T)/(nu.T.dot(nu)))\n",
    "    H = np.around(H, decimals=2)\n",
    "    return H\n",
    "\n",
    "def mat_A(h,a):\n",
    "    a = h.dot(a)\n",
    "    a = np.around(a, decimals=2)\n",
    "    return a"
   ]
  },
  {
   "cell_type": "code",
   "execution_count": 20,
   "metadata": {},
   "outputs": [],
   "source": [
    "def find_qr(mat):\n",
    "    nu1 = find_nu(mat,0)\n",
    "    H1 = mat_Haus(nu1)\n",
    "    mat1 = mat_A(H1,mat)\n",
    "    \n",
    "    nu2 = find_nu(mat1,1)\n",
    "    nu2[0] = 0.0 # необходимо обнулить\n",
    "    H2  = mat_Haus(nu2)\n",
    "    mat2 = mat_A(H2,mat1)\n",
    "    \n",
    "    #Q = np.eye(len(mat))\n",
    "    Q = np.around(H1.dot(H2),decimals=2)\n",
    "    \n",
    "    return mat2, Q"
   ]
  },
  {
   "cell_type": "code",
   "execution_count": 21,
   "metadata": {},
   "outputs": [
    {
     "data": {
      "text/plain": [
       "array([[[-9.9, -6.6,  4.3],\n",
       "        [-0. ,  9.4,  1.4],\n",
       "        [-0. ,  0. ,  0.7]],\n",
       "\n",
       "       [[-0.5,  0.5, -0.7],\n",
       "        [-0.7, -0.7, -0. ],\n",
       "        [-0.5,  0.5,  0.7]]])"
      ]
     },
     "execution_count": 21,
     "metadata": {},
     "output_type": "execute_result"
    }
   ],
   "source": [
    "R, Q = find_qr(mat)\n",
    "np.around(find_qr(mat), decimals=1)"
   ]
  },
  {
   "cell_type": "code",
   "execution_count": 22,
   "metadata": {},
   "outputs": [],
   "source": [
    "#from matrix import Matrix, Vector\n",
    "from numpy.linalg import eig\n",
    "from numpy.linalg import norm\n",
    "\n",
    "def get_roots(A, i):\n",
    "    sz = len(A)\n",
    "    a11 = A[i][i]\n",
    "    a12 = A[i][i + 1] if i + 1 < sz else 0\n",
    "    a21 = A[i + 1][i] if i + 1 < sz else 0\n",
    "    a22 = A[i + 1][i + 1] if i + 1 < sz else 0\n",
    "    return np.roots((1, -a11 - a22, a11 * a22 - a12 * a21))\n",
    "\n",
    "\n",
    "def finish_iter_for_complex(A, eps, i):\n",
    "    r, q = find_qr(A)\n",
    "    A1 = np.around(r.dot(q),decimals=2)\n",
    "    lambda1 = np.around(get_roots(A, i),decimals=2)\n",
    "    lambda2 = np.around(get_roots(A1, i),decimals=2)\n",
    "    return True if abs(lambda1[0] - lambda2[0]) <= eps and \\\n",
    "                   abs(lambda1[1] - lambda2[1]) <= eps else False\n",
    "\n",
    "\n",
    "def get_eigenvalue(A, eps, i):\n",
    "    A_i = np.copy(A)\n",
    "    #A_i = Matrix(A)\n",
    "    while True:\n",
    "        r, q = find_qr(A_i)\n",
    "        A_i = np.around(r.dot(q),decimals=2)\n",
    "        #a = np.array(A_i.get_data())\n",
    "        a = np.copy(A_i)\n",
    "        if norm(a[i + 1:, i]) <= eps:\n",
    "            res = (a[i][i], False, A_i)\n",
    "            break\n",
    "        elif norm(a[i + 2:, i]) <= eps and finish_iter_for_complex(A_i, eps, i):\n",
    "            res = (get_roots(A_i, i), True, A_i)\n",
    "            break\n",
    "    return res\n",
    "\n",
    "\n",
    "def method_qr(A, eps):\n",
    "    res = []\n",
    "    i = 0\n",
    "    A_i = np.copy(A)\n",
    "    while i < len(A):\n",
    "        eigenval = get_eigenvalue(A_i, eps, i)\n",
    "        if eigenval[1]:\n",
    "            res.extend(eigenval[0])\n",
    "            i += 2\n",
    "        else:\n",
    "            res.append(eigenval[0])\n",
    "            i += 1\n",
    "        A_i = eigenval[2]\n",
    "    return res, i"
   ]
  },
  {
   "cell_type": "code",
   "execution_count": 23,
   "metadata": {},
   "outputs": [
    {
     "data": {
      "text/plain": [
       "([-5.380649183969009, 4.940649183969009, 2.58], 3)"
      ]
     },
     "execution_count": 23,
     "metadata": {},
     "output_type": "execute_result"
    }
   ],
   "source": [
    "method_qr(mat,0.1)"
   ]
  },
  {
   "cell_type": "code",
   "execution_count": null,
   "metadata": {},
   "outputs": [],
   "source": []
  },
  {
   "cell_type": "code",
   "execution_count": null,
   "metadata": {},
   "outputs": [],
   "source": []
  },
  {
   "cell_type": "code",
   "execution_count": null,
   "metadata": {},
   "outputs": [],
   "source": []
  },
  {
   "cell_type": "code",
   "execution_count": null,
   "metadata": {},
   "outputs": [],
   "source": []
  },
  {
   "cell_type": "code",
   "execution_count": 32,
   "metadata": {},
   "outputs": [],
   "source": [
    "def method_qr(mat,i):\n",
    "    r,q = find_qr(mat)\n",
    "    A = np.around(r.dot(q),decimals=2)\n",
    "    print(A)\n",
    "    if (i==6):\n",
    "        return\n",
    "    method_qr(A,i+1)"
   ]
  },
  {
   "cell_type": "code",
   "execution_count": null,
   "metadata": {},
   "outputs": [],
   "source": []
  },
  {
   "cell_type": "code",
   "execution_count": null,
   "metadata": {},
   "outputs": [],
   "source": []
  },
  {
   "cell_type": "code",
   "execution_count": null,
   "metadata": {},
   "outputs": [],
   "source": []
  },
  {
   "cell_type": "code",
   "execution_count": null,
   "metadata": {},
   "outputs": [],
   "source": []
  },
  {
   "cell_type": "code",
   "execution_count": 33,
   "metadata": {},
   "outputs": [
    {
     "data": {
      "text/plain": [
       "array([[-4.24, -3.78, -2.14],\n",
       "       [ 0.  ,  2.18,  0.89],\n",
       "       [ 0.  , -0.01, -3.58]])"
      ]
     },
     "execution_count": 33,
     "metadata": {},
     "output_type": "execute_result"
    }
   ],
   "source": [
    "nu = find_nu(mat,0)\n",
    "H1 = mat_Haus(nu)\n",
    "mat1 = mat_A(H1,mat)\n",
    "nu2 = find_nu(mat1,1)\n",
    "nu2[0] = 0.0 # необходимо обнулить\n",
    "H2  = mat_Haus(nu2)\n",
    "mat2 = mat_A(H2,mat1)\n",
    "mat2"
   ]
  },
  {
   "cell_type": "code",
   "execution_count": 34,
   "metadata": {},
   "outputs": [
    {
     "ename": "NameError",
     "evalue": "name 'h' is not defined",
     "output_type": "error",
     "traceback": [
      "\u001b[1;31m---------------------------------------------------------------------------\u001b[0m",
      "\u001b[1;31mNameError\u001b[0m                                 Traceback (most recent call last)",
      "\u001b[1;32m<ipython-input-34-764565d882df>\u001b[0m in \u001b[0;36m<module>\u001b[1;34m\u001b[0m\n\u001b[0;32m      1\u001b[0m \u001b[1;31m#n.shape = (3,1)\u001b[0m\u001b[1;33m\u001b[0m\u001b[1;33m\u001b[0m\u001b[1;33m\u001b[0m\u001b[0m\n\u001b[1;32m----> 2\u001b[1;33m \u001b[0mh\u001b[0m\u001b[1;33m.\u001b[0m\u001b[0mdot\u001b[0m\u001b[1;33m(\u001b[0m\u001b[0mmat\u001b[0m\u001b[1;33m)\u001b[0m\u001b[1;33m\u001b[0m\u001b[1;33m\u001b[0m\u001b[0m\n\u001b[0m",
      "\u001b[1;31mNameError\u001b[0m: name 'h' is not defined"
     ]
    }
   ],
   "source": [
    "#n.shape = (3,1)\n",
    "h.dot(mat)"
   ]
  },
  {
   "cell_type": "code",
   "execution_count": null,
   "metadata": {},
   "outputs": [],
   "source": [
    "h = np.around(h, decimals=2)\n",
    "h,mat"
   ]
  },
  {
   "cell_type": "code",
   "execution_count": null,
   "metadata": {},
   "outputs": [],
   "source": [
    "s = h.dot(mat)\n",
    "s"
   ]
  },
  {
   "cell_type": "code",
   "execution_count": null,
   "metadata": {},
   "outputs": [],
   "source": [
    "z = np.eye(len(s))\n",
    "z = z.dot(s)\n",
    "z"
   ]
  },
  {
   "cell_type": "code",
   "execution_count": null,
   "metadata": {},
   "outputs": [],
   "source": []
  }
 ],
 "metadata": {
  "kernelspec": {
   "display_name": "Python 3",
   "language": "python",
   "name": "python3"
  },
  "language_info": {
   "codemirror_mode": {
    "name": "ipython",
    "version": 3
   },
   "file_extension": ".py",
   "mimetype": "text/x-python",
   "name": "python",
   "nbconvert_exporter": "python",
   "pygments_lexer": "ipython3",
   "version": "3.7.3"
  }
 },
 "nbformat": 4,
 "nbformat_minor": 2
}
