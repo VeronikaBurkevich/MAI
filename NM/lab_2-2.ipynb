{
 "cells": [
  {
   "cell_type": "code",
   "execution_count": 2,
   "metadata": {},
   "outputs": [],
   "source": [
    "import numpy as np\n",
    "\n",
    "import math\n",
    "import matplotlib.pyplot as plt"
   ]
  },
  {
   "cell_type": "code",
   "execution_count": 3,
   "metadata": {},
   "outputs": [],
   "source": [
    "# условие\n",
    "# a = 2\n",
    "# x1 = math.cos(x2) + 1\n",
    "# x2 = math.log(x1 + 1) + a\n",
    "\n",
    "def f1(x1, x2):\n",
    "    return x1 - math.cos(x2) - 1\n",
    "\n",
    "def f2(x1, x2):\n",
    "    return x2 - math.log(x1 + 1) - 2\n",
    "\n",
    "def df1_x1(x1, x2):\n",
    "    return 1\n",
    "\n",
    "def df1_x2(x1, x2):\n",
    "    return math.sin(x2)\n",
    "\n",
    "def df2_x1(x1, x2):\n",
    "    return -1 / ((x1 + 1) )#* math.log(10))\n",
    "\n",
    "def df2_x2(x1, x2):\n",
    "    return 1\n",
    "\n",
    "def phi1(x2):\n",
    "    return math.cos(x2) + 1\n",
    "\n",
    "def phi2(x1):\n",
    "    return math.log(x1 + 1) + 2\n",
    "\n",
    "def dphi1(x2):\n",
    "    return -math.sin(x2)\n",
    "\n",
    "def dphi2(x1):\n",
    "    return 1 / ((x1 + 1) )#* math.log(10))"
   ]
  },
  {
   "cell_type": "code",
   "execution_count": 4,
   "metadata": {},
   "outputs": [],
   "source": [
    "def det(mat):\n",
    "    return mat[0][0]*mat[1][1]-mat[0][1]*mat[1][0]\n",
    "\n",
    "def norm(x1, x2):\n",
    "    return max(abs(x1[0]-x2[0]), abs(x1[1]-x2[1]))\n",
    "\n",
    "\n",
    "def create_mat(x1, x2):\n",
    "    a1 = [\n",
    "        [f1(x1, x2), df1_x2(x1, x2)],\n",
    "        [f2(x1, x2), df2_x2(x1, x2)]\n",
    "        ]\n",
    "    a2 = [\n",
    "        [df1_x1(x1, x2), f1(x1, x2)],\n",
    "        [df2_x1(x1, x2), f2(x1, x2)]\n",
    "    ]\n",
    "\n",
    "    j = [\n",
    "        [df1_x1(x1, x2), df1_x2(x1, x2)],\n",
    "        [df2_x1(x1, x2), df2_x2(x1, x2)]\n",
    "    ]\n",
    "\n",
    "    #det_j = recursive(j)\n",
    "    #return x1 - recursive(a1)[0] / det_j[0], x2 - recursive(a2)[0] / det_j[0]\n",
    "    \n",
    "    x1_new = x1 - det(a1)/det(j)\n",
    "    x2_new = x2 - det(a2)/det(j)\n",
    "    \n",
    "    return x1_new, x2_new\n"
   ]
  },
  {
   "cell_type": "code",
   "execution_count": 5,
   "metadata": {},
   "outputs": [],
   "source": [
    "def newton(x1, x2, eps):\n",
    "    while True:\n",
    "        x1_new, x2_new = create_mat(x1, x2)\n",
    "        \n",
    "        print('x1 =', x1, 'x1_new = ', x1_new)\n",
    "        print('x2 =', x2, 'x2_new = ', x2_new)\n",
    "        print('-------------------------------------------------------')\n",
    "        ep = round(norm((x1_new, x2_new ), (x1,x2)),4)\n",
    "        if (ep <= eps):\n",
    "            print(\"eps =\", ep)\n",
    "            break\n",
    "        x1 = x1_new\n",
    "        x2 = x2_new\n",
    "    return x1_new, x2_new"
   ]
  },
  {
   "cell_type": "code",
   "execution_count": 6,
   "metadata": {},
   "outputs": [
    {
     "name": "stdout",
     "output_type": "stream",
     "text": [
      "x1 = 2 x1_new =  -1.1238659348813749\n",
      "x2 = 4 x2_new =  2.057323643707652\n",
      "-------------------------------------------------------\n"
     ]
    },
    {
     "ename": "ValueError",
     "evalue": "math domain error",
     "output_type": "error",
     "traceback": [
      "\u001b[1;31m---------------------------------------------------------------------------\u001b[0m",
      "\u001b[1;31mValueError\u001b[0m                                Traceback (most recent call last)",
      "\u001b[1;32m<ipython-input-6-9536141d333b>\u001b[0m in \u001b[0;36m<module>\u001b[1;34m\u001b[0m\n\u001b[1;32m----> 1\u001b[1;33m \u001b[0mnewton\u001b[0m\u001b[1;33m(\u001b[0m\u001b[1;36m2\u001b[0m\u001b[1;33m,\u001b[0m \u001b[1;36m4\u001b[0m\u001b[1;33m,\u001b[0m \u001b[1;36m0.01\u001b[0m\u001b[1;33m)\u001b[0m\u001b[1;33m\u001b[0m\u001b[1;33m\u001b[0m\u001b[0m\n\u001b[0m",
      "\u001b[1;32m<ipython-input-5-ed690c7468bc>\u001b[0m in \u001b[0;36mnewton\u001b[1;34m(x1, x2, eps)\u001b[0m\n\u001b[0;32m      1\u001b[0m \u001b[1;32mdef\u001b[0m \u001b[0mnewton\u001b[0m\u001b[1;33m(\u001b[0m\u001b[0mx1\u001b[0m\u001b[1;33m,\u001b[0m \u001b[0mx2\u001b[0m\u001b[1;33m,\u001b[0m \u001b[0meps\u001b[0m\u001b[1;33m)\u001b[0m\u001b[1;33m:\u001b[0m\u001b[1;33m\u001b[0m\u001b[1;33m\u001b[0m\u001b[0m\n\u001b[0;32m      2\u001b[0m     \u001b[1;32mwhile\u001b[0m \u001b[1;32mTrue\u001b[0m\u001b[1;33m:\u001b[0m\u001b[1;33m\u001b[0m\u001b[1;33m\u001b[0m\u001b[0m\n\u001b[1;32m----> 3\u001b[1;33m         \u001b[0mx1_new\u001b[0m\u001b[1;33m,\u001b[0m \u001b[0mx2_new\u001b[0m \u001b[1;33m=\u001b[0m \u001b[0mcreate_mat\u001b[0m\u001b[1;33m(\u001b[0m\u001b[0mx1\u001b[0m\u001b[1;33m,\u001b[0m \u001b[0mx2\u001b[0m\u001b[1;33m)\u001b[0m\u001b[1;33m\u001b[0m\u001b[1;33m\u001b[0m\u001b[0m\n\u001b[0m\u001b[0;32m      4\u001b[0m \u001b[1;33m\u001b[0m\u001b[0m\n\u001b[0;32m      5\u001b[0m         \u001b[0mprint\u001b[0m\u001b[1;33m(\u001b[0m\u001b[1;34m'x1 ='\u001b[0m\u001b[1;33m,\u001b[0m \u001b[0mx1\u001b[0m\u001b[1;33m,\u001b[0m \u001b[1;34m'x1_new = '\u001b[0m\u001b[1;33m,\u001b[0m \u001b[0mx1_new\u001b[0m\u001b[1;33m)\u001b[0m\u001b[1;33m\u001b[0m\u001b[1;33m\u001b[0m\u001b[0m\n",
      "\u001b[1;32m<ipython-input-4-8266ccf364c1>\u001b[0m in \u001b[0;36mcreate_mat\u001b[1;34m(x1, x2)\u001b[0m\n\u001b[0;32m      9\u001b[0m     a1 = [\n\u001b[0;32m     10\u001b[0m         \u001b[1;33m[\u001b[0m\u001b[0mf1\u001b[0m\u001b[1;33m(\u001b[0m\u001b[0mx1\u001b[0m\u001b[1;33m,\u001b[0m \u001b[0mx2\u001b[0m\u001b[1;33m)\u001b[0m\u001b[1;33m,\u001b[0m \u001b[0mdf1_x2\u001b[0m\u001b[1;33m(\u001b[0m\u001b[0mx1\u001b[0m\u001b[1;33m,\u001b[0m \u001b[0mx2\u001b[0m\u001b[1;33m)\u001b[0m\u001b[1;33m]\u001b[0m\u001b[1;33m,\u001b[0m\u001b[1;33m\u001b[0m\u001b[1;33m\u001b[0m\u001b[0m\n\u001b[1;32m---> 11\u001b[1;33m         \u001b[1;33m[\u001b[0m\u001b[0mf2\u001b[0m\u001b[1;33m(\u001b[0m\u001b[0mx1\u001b[0m\u001b[1;33m,\u001b[0m \u001b[0mx2\u001b[0m\u001b[1;33m)\u001b[0m\u001b[1;33m,\u001b[0m \u001b[0mdf2_x2\u001b[0m\u001b[1;33m(\u001b[0m\u001b[0mx1\u001b[0m\u001b[1;33m,\u001b[0m \u001b[0mx2\u001b[0m\u001b[1;33m)\u001b[0m\u001b[1;33m]\u001b[0m\u001b[1;33m\u001b[0m\u001b[1;33m\u001b[0m\u001b[0m\n\u001b[0m\u001b[0;32m     12\u001b[0m         ]\n\u001b[0;32m     13\u001b[0m     a2 = [\n",
      "\u001b[1;32m<ipython-input-3-514c907653ad>\u001b[0m in \u001b[0;36mf2\u001b[1;34m(x1, x2)\u001b[0m\n\u001b[0;32m      8\u001b[0m \u001b[1;33m\u001b[0m\u001b[0m\n\u001b[0;32m      9\u001b[0m \u001b[1;32mdef\u001b[0m \u001b[0mf2\u001b[0m\u001b[1;33m(\u001b[0m\u001b[0mx1\u001b[0m\u001b[1;33m,\u001b[0m \u001b[0mx2\u001b[0m\u001b[1;33m)\u001b[0m\u001b[1;33m:\u001b[0m\u001b[1;33m\u001b[0m\u001b[1;33m\u001b[0m\u001b[0m\n\u001b[1;32m---> 10\u001b[1;33m     \u001b[1;32mreturn\u001b[0m \u001b[0mx2\u001b[0m \u001b[1;33m-\u001b[0m \u001b[0mmath\u001b[0m\u001b[1;33m.\u001b[0m\u001b[0mlog\u001b[0m\u001b[1;33m(\u001b[0m\u001b[0mx1\u001b[0m \u001b[1;33m+\u001b[0m \u001b[1;36m1\u001b[0m\u001b[1;33m)\u001b[0m \u001b[1;33m-\u001b[0m \u001b[1;36m2\u001b[0m\u001b[1;33m\u001b[0m\u001b[1;33m\u001b[0m\u001b[0m\n\u001b[0m\u001b[0;32m     11\u001b[0m \u001b[1;33m\u001b[0m\u001b[0m\n\u001b[0;32m     12\u001b[0m \u001b[1;32mdef\u001b[0m \u001b[0mdf1_x1\u001b[0m\u001b[1;33m(\u001b[0m\u001b[0mx1\u001b[0m\u001b[1;33m,\u001b[0m \u001b[0mx2\u001b[0m\u001b[1;33m)\u001b[0m\u001b[1;33m:\u001b[0m\u001b[1;33m\u001b[0m\u001b[1;33m\u001b[0m\u001b[0m\n",
      "\u001b[1;31mValueError\u001b[0m: math domain error"
     ]
    }
   ],
   "source": [
    "newton(2, 4, 0.01)"
   ]
  },
  {
   "cell_type": "code",
   "execution_count": 190,
   "metadata": {},
   "outputs": [],
   "source": [
    "def get_G(x1, x2):\n",
    "    return max(abs(dphi1(x2)), abs(dphi2(x1)))\n",
    "\n",
    "def simple_it(x1, x2, eps):\n",
    "    q = get_G(x1, x2)\n",
    "    print (q)\n",
    "    while True:\n",
    "        x1_new, x2_new = phi1(x2), phi2(x1)\n",
    "        \n",
    "        print('x1 =', x1, 'x1_new = ', x1_new)\n",
    "        print('x2 =', x2, 'x2_new = ', x2_new)\n",
    "        print('-------------------------------------------------------')\n",
    "        \n",
    "        ep = abs(q/(1-q)*norm((x1_new, x2_new ), (x1,x2)))\n",
    "        #ep = abs(round(norm((x1_new, x2_new ), (x1,x2)),4))\n",
    "        ep = round(ep,4)\n",
    "        if (ep <= eps):\n",
    "            print(\"eps =\", ep)\n",
    "            break\n",
    "        x1 = x1_new\n",
    "        x2 = x2_new"
   ]
  },
  {
   "cell_type": "code",
   "execution_count": 191,
   "metadata": {
    "scrolled": true
   },
   "outputs": [
    {
     "name": "stdout",
     "output_type": "stream",
     "text": [
      "0.7568024953079282\n",
      "x1 = 2 x1_new =  0.34635637913638806\n",
      "x2 = 4 x2_new =  3.4771212547196626\n",
      "-------------------------------------------------------\n",
      "x1 = 0.34635637913638806 x1_new =  0.0557636100570873\n",
      "x2 = 3.4771212547196626 x2_new =  3.1291600324038567\n",
      "-------------------------------------------------------\n",
      "x1 = 0.0557636100570873 x1_new =  7.728403928553007e-05\n",
      "x2 = 3.1291600324038567 x2_new =  3.0235666887089203\n",
      "-------------------------------------------------------\n",
      "x1 = 7.728403928553007e-05 x1_new =  0.006956982593228189\n",
      "x2 = 3.0235666887089203 x2_new =  3.0000335627348855\n",
      "-------------------------------------------------------\n",
      "x1 = 0.006956982593228189 x1_new =  0.010002767583729977\n",
      "x2 = 3.0000335627348855 x2_new =  3.003010917801448\n",
      "-------------------------------------------------------\n",
      "eps = 0.0095\n"
     ]
    }
   ],
   "source": [
    "simple_it(2, 4, 0.01)"
   ]
  },
  {
   "cell_type": "code",
   "execution_count": 181,
   "metadata": {},
   "outputs": [
    {
     "data": {
      "image/png": "[encoded data removed]",
      "text/plain": [
       "<Figure size 720x432 with 1 Axes>"
      ]
     },
     "metadata": {
      "needs_background": "light"
     },
     "output_type": "display_data"
    }
   ],
   "source": [
    "plt.figure(2, figsize=(10, 6))\n",
    "\n",
    "x = np.linspace(0, 10, 50) # от нуля, т.к.по условию корень положительный\n",
    "\n",
    "y1 = [phi1(i) for i in x]\n",
    "y2 = [phi2(i) for i in x]\n",
    "y3 = [dphi1(i) for i in x]\n",
    "y4 = [dphi2(i) for i in x]\n",
    "\n",
    "\n",
    "plt.plot(x, y2, x, y1)\n",
    "#axis.plot(x, y3, x, y4)\n",
    "plt.grid()\n",
    "#plt.plot(x, y3, x, y4)\n",
    "#plt.grid()"
   ]
  },
  {
   "cell_type": "code",
   "execution_count": 182,
   "metadata": {},
   "outputs": [
    {
     "data": {
      "image/png": "[encoded data removed]",
      "text/plain": [
       "<Figure size 720x432 with 1 Axes>"
      ]
     },
     "metadata": {
      "needs_background": "light"
     },
     "output_type": "display_data"
    }
   ],
   "source": [
    "plt.figure(2, figsize=(10, 6))\n",
    "plt.plot(x, y3, x, y4)\n",
    "plt.grid()"
   ]
  },
  {
   "cell_type": "code",
   "execution_count": null,
   "metadata": {},
   "outputs": [],
   "source": []
  },
  {
   "cell_type": "code",
   "execution_count": null,
   "metadata": {},
   "outputs": [],
   "source": []
  },
  {
   "cell_type": "code",
   "execution_count": null,
   "metadata": {},
   "outputs": [],
   "source": []
  },
  {
   "cell_type": "code",
   "execution_count": null,
   "metadata": {},
   "outputs": [],
   "source": []
  },
  {
   "cell_type": "code",
   "execution_count": null,
   "metadata": {},
   "outputs": [],
   "source": []
  },
  {
   "cell_type": "code",
   "execution_count": null,
   "metadata": {},
   "outputs": [],
   "source": []
  },
  {
   "cell_type": "code",
   "execution_count": null,
   "metadata": {},
   "outputs": [],
   "source": []
  },
  {
   "cell_type": "code",
   "execution_count": 183,
   "metadata": {},
   "outputs": [
    {
     "data": {
      "image/png": "[encoded data removed]",
      "text/plain": [
       "<Figure size 432x288 with 1 Axes>"
      ]
     },
     "metadata": {
      "needs_background": "light"
     },
     "output_type": "display_data"
    },
    {
     "data": {
      "image/png": "[encoded data removed]",
      "text/plain": [
       "<Figure size 432x288 with 1 Axes>"
      ]
     },
     "metadata": {
      "needs_background": "light"
     },
     "output_type": "display_data"
    },
    {
     "name": "stdout",
     "output_type": "stream",
     "text": [
      "Iteration:\n",
      "q: 0.7568024953079282\n",
      "| x1 ==  0.3464 | x2 ==  3.4771 | eps ==  5.1459 |\n",
      "| x1 ==  0.0558 | x2 ==  3.1292 | eps ==  1.0828 |\n",
      "| x1 ==  0.0001 | x2 ==  3.0236 | eps ==  0.3286 |\n",
      "| x1 ==  0.0070 | x2 ==  3.0000 | eps ==  0.0732 |\n",
      "| x1 ==  0.0100 | x2 ==  3.0030 | eps ==  0.0095 |\n",
      "| x1 ==  0.0096 | x2 ==  3.0043 | eps ==  0.0041 |\n",
      "| x1 ==  0.0094 | x2 ==  3.0041 | eps ==  0.0006 |\n",
      "Newton method:\n",
      "| x1 == -0.3015 | x2 ==  3.1439 | eps ==  2.3015 |\n",
      "| x1 == -0.0003 | x2 ==  3.0315 | eps ==  0.3012 |\n",
      "| x1 ==  0.0091 | x2 ==  3.0039 | eps ==  0.0275 |\n",
      "| x1 ==  0.0094 | x2 ==  3.0041 | eps ==  0.0004 |\n"
     ]
    },
    {
     "data": {
      "text/plain": [
       "(0.009439898563763054, 3.0040804936593997)"
      ]
     },
     "execution_count": 183,
     "metadata": {},
     "output_type": "execute_result"
    }
   ],
   "source": [
    "import math\n",
    "import numpy as np\n",
    "import matplotlib.pyplot as plt\n",
    "\n",
    "\"\"\"\n",
    "x1 - cos(x2) = 1\n",
    "x2 - lg(x1 - 1) = a\n",
    "a = 3\n",
    "\"\"\"\n",
    "\n",
    "\n",
    "# First func\n",
    "def f1(x1, x2):\n",
    "    return x1 - math.cos(x2) - 1\n",
    "\n",
    "\n",
    "def x1(x2):\n",
    "    return math.cos(x2) + 1\n",
    "\n",
    "\n",
    "def df1_x1(x1, x2):\n",
    "    return 1\n",
    "\n",
    "\n",
    "def df1_x2(x1, x2):\n",
    "    return math.sin(x2)\n",
    "\n",
    "\n",
    "# Second func\n",
    "def f2(x1, x2):\n",
    "    return x2 - math.log10(x1 + 1) - 3\n",
    "\n",
    "\n",
    "def x2(x1):\n",
    "    return math.log10(x1 + 1) + 3\n",
    "\n",
    "\n",
    "def df2_x1(x1, x2):\n",
    "    return -1 / ((x1 + 1) * math.log(10))\n",
    "\n",
    "\n",
    "def df2_x2(x1, x2):\n",
    "    return 1\n",
    "\n",
    "\n",
    "function = {\n",
    "    \"f1\": f1,\n",
    "    \"f2\": f2,\n",
    "\n",
    "    \"df1_dx1\": df1_x1,\n",
    "    \"df1_dx2\": df1_x2,\n",
    "    \"df2_dx1\": df2_x1,\n",
    "    \"df2_dx2\": df2_x2\n",
    "}\n",
    "\n",
    "\n",
    "def norm(x, x_last):\n",
    "    return max(abs(x[0] - x_last[0]), abs(x[1] - x_last[1]))\n",
    "\n",
    "\n",
    "# determinant of a 2x2 matrix\n",
    "def det2(m):\n",
    "    return m[0][0] * m[1][1] - m[1][0] * m[0][1]\n",
    "\n",
    "\n",
    "# recursive part\n",
    "def recursive(m, some=None, prod=1):\n",
    "    if some is None:\n",
    "        some = []\n",
    "\n",
    "    if len(m) == 1:\n",
    "        some.append(m[0][0])\n",
    "    elif len(m) == 2:\n",
    "        some.append(det2(m) * prod)\n",
    "    else:\n",
    "        for index, elem in enumerate(m[0]):\n",
    "            transpose = [list(a) for a in zip(*m[1:])]\n",
    "            del transpose[index]\n",
    "            minor = [list(a) for a in zip(*transpose)]\n",
    "            some = recursive(minor, some, prod * m[0][index] * (-1) ** (index + 2))\n",
    "\n",
    "    return some\n",
    "\n",
    "\n",
    "def compute(x1, x2, func):\n",
    "    a1 = [\n",
    "        [func[\"f1\"](x1, x2), func[\"df1_dx2\"](x1, x2)],\n",
    "        [func[\"f2\"](x1, x2), func[\"df2_dx2\"](x1, x2)]\n",
    "        ]\n",
    "    a2 = [\n",
    "        [func[\"df1_dx1\"](x1, x2), func[\"f1\"](x1, x2)],\n",
    "        [func[\"df2_dx1\"](x1, x2), func[\"f2\"](x1, x2)]\n",
    "    ]\n",
    "\n",
    "    jacobi = [\n",
    "        [func[\"df1_dx1\"](x1, x2), func[\"df1_dx2\"](x1, x2)],\n",
    "        [func[\"df2_dx1\"](x1, x2), func[\"df2_dx2\"](x1, x2)]\n",
    "    ]\n",
    "\n",
    "    det_j = recursive(jacobi)\n",
    "\n",
    "    return x1 - recursive(a1)[0] / det_j[0], x2 - recursive(a2)[0] / det_j[0]\n",
    "\n",
    "\n",
    "def printer(data):\n",
    "    for title, value in data.items():\n",
    "        print(f\"| {title} == {value:7.4f} \", end='')\n",
    "    print('|')\n",
    "\n",
    "\n",
    "def newton(x1, x2, eps=0.01):\n",
    "    x1_last, x2_last = x1, x2\n",
    "    k = 0\n",
    "    while True:\n",
    "        k += 1\n",
    "        x1_cur, x2_cur = compute(x1_last, x2_last, function)\n",
    "\n",
    "        cur_eps = norm((x1_cur, x2_cur), (x1_last, x2_last))\n",
    "        printer({\"x1\": x1_cur, \"x2\": x2_cur, \"eps\": cur_eps})\n",
    "\n",
    "        if cur_eps <= eps:\n",
    "            break\n",
    "        x1_last = x1_cur\n",
    "        x2_last = x2_cur\n",
    "\n",
    "    return x1_cur, x2_cur\n",
    "\n",
    "\n",
    "def phi1(x2):\n",
    "    return math.cos(x2) + 1\n",
    "\n",
    "\n",
    "def phi2(x1):\n",
    "    return math.log10(x1 + 1) + 3\n",
    "\n",
    "\n",
    "def dphi1_dx1(x1,x2):\n",
    "    return 0\n",
    "\n",
    "\n",
    "def dphi1_dx2(x2):\n",
    "    return -math.sin(x2)\n",
    "\n",
    "\n",
    "def dphi2_dx1(x1):\n",
    "    return -1 / ((x1 + 1) * math.log(10))\n",
    "\n",
    "\n",
    "def dphi2_dx2(x1, x2):\n",
    "    return 0\n",
    "\n",
    "\n",
    "phi = {\n",
    "    \"phi1\": phi1,\n",
    "    \"phi2\": phi2,\n",
    "\n",
    "    \"dphi1_dx1\": dphi1_dx1,\n",
    "    \"dphi1_dx2\": dphi1_dx2,\n",
    "    \"dphi2_dx1\": dphi2_dx1,\n",
    "    \"dphi2_dx2\": dphi2_dx2\n",
    "}\n",
    "\n",
    "\n",
    "def getQ(x1, x2, phi):\n",
    "    return max(\n",
    "        abs(phi[\"dphi1_dx1\"](x1, x2)) + abs(phi[\"dphi1_dx2\"](x2)),\n",
    "        abs(phi[\"dphi2_dx1\"](x1)) + abs(phi[\"dphi2_dx2\"](x1, x2)))\n",
    "\n",
    "\n",
    "def simpleIteration(x1, x2, eps = 0.01):\n",
    "    x1_last, x2_last = x1, x2\n",
    "    k = 0\n",
    "\n",
    "    q = getQ(x1, x2, phi)\n",
    "    print(\"q:\", q)\n",
    "    if q >= 1:\n",
    "        print(\"Leave field of G\")\n",
    "        printer({\"q\": q})\n",
    "    while True:\n",
    "        k += 1\n",
    "        x1_cur, x2_cur = phi1(x2_last), phi2(x1_last)\n",
    "\n",
    "        cur_eps = abs((q / (1 - q) * norm((x1_cur, x2_cur), (x1_last, x2_last))))\n",
    "        printer({\"x1\": x1_cur, \"x2\": x2_cur, \"eps\": cur_eps})\n",
    "\n",
    "        if cur_eps <= eps:\n",
    "            break\n",
    "\n",
    "        x1_last = x1_cur\n",
    "        x2_last = x2_cur\n",
    "    return x1_cur, x2_cur\n",
    "\n",
    "\n",
    "def plot_show(f1, f2, x, file = None, step = 0.1):\n",
    "    X = np.arange(x[0], x[-1], step)\n",
    "    Y1 = [f1(val) for val in X]\n",
    "    Y2 = [f2(val) for val in X]\n",
    "\n",
    "    fig, axis = plt.subplots()\n",
    "    axis.set_title(f'Scatter x1 from x2')\n",
    "    axis.plot(X, Y1, label='func1')\n",
    "    axis.plot(Y2, X, label='func2')\n",
    "    axis.legend(loc='upper right')\n",
    "    axis.grid()\n",
    "\n",
    "    if file:\n",
    "        fig.savefig(file)\n",
    "        print(f'Saved in {file}')\n",
    "        plt.close(fig)\n",
    "\n",
    "    plt.show()\n",
    "\n",
    "\n",
    "plot_show(x1, x2, [0, 5])\n",
    "plot_show(dphi1_dx2, dphi2_dx1, [0, 5])\n",
    "print(\"Iteration:\")\n",
    "simpleIteration(2, 4, 0.001)\n",
    "print(\"Newton method:\")\n",
    "newton(2, 4, 0.001)"
   ]
  },
  {
   "cell_type": "code",
   "execution_count": null,
   "metadata": {},
   "outputs": [],
   "source": []
  }
 ],
 "metadata": {
  "kernelspec": {
   "display_name": "Python 3",
   "language": "python",
   "name": "python3"
  },
  "language_info": {
   "codemirror_mode": {
    "name": "ipython",
    "version": 3
   },
   "file_extension": ".py",
   "mimetype": "text/x-python",
   "name": "python",
   "nbconvert_exporter": "python",
   "pygments_lexer": "ipython3",
   "version": "3.7.3"
  }
 },
 "nbformat": 4,
 "nbformat_minor": 2
}
