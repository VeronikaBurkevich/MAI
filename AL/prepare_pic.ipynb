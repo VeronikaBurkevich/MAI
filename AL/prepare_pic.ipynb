{
 "cells": [
  {
   "cell_type": "code",
   "execution_count": null,
   "metadata": {},
   "outputs": [],
   "source": [
    "import cv2\n",
    "import numpy as np"
   ]
  },
  {
   "cell_type": "code",
   "execution_count": null,
   "metadata": {},
   "outputs": [],
   "source": [
    "#открываем исходные фото\n",
    "img1 = cv2.imread('photo1.jpg', 0)\n",
    "img2 = cv2.imread('photo2.jpg', 0)\n",
    "img3 = cv2.imread('photo3.jpg', 0)\n",
    "\n",
    "cv2.imshow('image',img1)\n",
    "cv2.waitKey(0)\n",
    "cv2.imshow('image',img2)\n",
    "cv2.waitKey(0)\n",
    "cv2.imshow('image',img3)\n",
    "cv2.waitKey(0)\n",
    "#cv2.destroyAllWindows()"
   ]
  },
  {
   "cell_type": "code",
   "execution_count": null,
   "metadata": {},
   "outputs": [],
   "source": [
    "img1.shape, img2.shape, img3.shape"
   ]
  },
  {
   "cell_type": "code",
   "execution_count": null,
   "metadata": {},
   "outputs": [],
   "source": [
    "#отрезаем лишнее\n",
    "new1 = img1[:681,2:1073]\n",
    "new2 = img2[:470,:]\n",
    "new3 = img3[3:1025,:1595]\n",
    "\n",
    "cv2.imshow(\"image\", new3)\n",
    "cv2.waitKey(0)\n",
    "cv2.destroyAllWindows()"
   ]
  },
  {
   "cell_type": "code",
   "execution_count": null,
   "metadata": {},
   "outputs": [],
   "source": [
    "#переводим изображения в черно-белые по порогу\n",
    "ret, threshold_img1 = cv2.threshold(new1, 105, 255, 0)\n",
    "ret, threshold_img2 = cv2.threshold(new2, 175, 255, 0)\n",
    "ret, threshold_img3 = cv2.threshold(new3, 105, 255, 0)\n",
    "\n",
    "cv2.imshow('test', threshold_img3)\n",
    "cv2.waitKey(0)"
   ]
  },
  {
   "cell_type": "code",
   "execution_count": null,
   "metadata": {},
   "outputs": [],
   "source": [
    "#задаем нужные размеры\n",
    "fin_h = 800\n",
    "fin_w = 512\n",
    "dim = (fin_h,fin_w)"
   ]
  },
  {
   "cell_type": "code",
   "execution_count": null,
   "metadata": {},
   "outputs": [],
   "source": [
    "#меняем масштаб исходных фото\n",
    "resized1 = cv2.resize(threshold_img1, dim, interpolation = cv2.INTER_AREA)\n",
    "resized2 = cv2.resize(threshold_img2, dim, interpolation = cv2.INTER_AREA)\n",
    "resized3 = cv2.resize(threshold_img3, dim, interpolation = cv2.INTER_AREA)\n",
    "\n",
    "cv2.imshow(\"Resize image\", resized2)\n",
    "cv2.waitKey(0)"
   ]
  },
  {
   "cell_type": "code",
   "execution_count": null,
   "metadata": {},
   "outputs": [],
   "source": [
    "resized1.shape, resized2.shape, resized3.shape"
   ]
  },
  {
   "cell_type": "code",
   "execution_count": null,
   "metadata": {},
   "outputs": [],
   "source": [
    "#photo1(n=1) и photo3(n=100)\n",
    "#режем фото на картинки датасета 32х32\n",
    "#сохраняем в соответствующую папку\n",
    "def cut(resized):\n",
    "    step = 32\n",
    "    n = 100\n",
    "    for i in range(16):\n",
    "        for j in range(25):\n",
    "            flip_im = resized[i*step:(i+1)*step, j*step:(j+1)*step]\n",
    "            if (i < 4):\n",
    "                cv2.imwrite(\"train\\Prin{}.png\".format(n), flip_im)\n",
    "                n += 1\n",
    "            if (i in range(4, 8)):\n",
    "                cv2.imwrite(\"train\\Peresech{}.png\".format(n), flip_im)\n",
    "                n += 1\n",
    "            if (i in range(8, 12)):\n",
    "                cv2.imwrite(\"train\\Obed{}.png\".format(n), flip_im)\n",
    "                n += 1\n",
    "            if (i >= 12):\n",
    "                cv2.imwrite(\"train\\Pusto{}.png\".format(n), flip_im)\n",
    "                n += 1\n",
    "            if (n == 200):\n",
    "                n = 100"
   ]
  },
  {
   "cell_type": "code",
   "execution_count": null,
   "metadata": {},
   "outputs": [],
   "source": [
    "#cut(resized1)\n",
    "cut(resized3)"
   ]
  },
  {
   "cell_type": "code",
   "execution_count": null,
   "metadata": {},
   "outputs": [],
   "source": [
    "#photo2\n",
    "#режем фото на картинки датасета 32х32\n",
    "#сохраняем в соответствующую папку\n",
    "def cut2(resized):\n",
    "    step = 32\n",
    "    n = 1\n",
    "    for i in range(16):\n",
    "        for j in range(25):\n",
    "            flip_im = resized[i*step:(i+1)*step, j*step:(j+1)*step]\n",
    "            if (i < 4):\n",
    "                cv2.imwrite(\"test\\Obed{}.png\".format(n), flip_im)\n",
    "                n += 1\n",
    "            if (i in range(4, 8)):\n",
    "                cv2.imwrite(\"test\\Prin{}.png\".format(n), flip_im)\n",
    "                n += 1\n",
    "            if (i in range(8, 12)):\n",
    "                cv2.imwrite(\"test\\Peresech{}.png\".format(n), flip_im)\n",
    "                n += 1\n",
    "            if (i >= 12):\n",
    "                cv2.imwrite(\"test\\Pusto{}.png\".format(n), flip_im)\n",
    "                n += 1\n",
    "            if (n == 100):\n",
    "                n = 1"
   ]
  },
  {
   "cell_type": "code",
   "execution_count": null,
   "metadata": {},
   "outputs": [],
   "source": [
    "cut2(resized2)"
   ]
  },
  {
   "cell_type": "code",
   "execution_count": null,
   "metadata": {},
   "outputs": [],
   "source": []
  },
  {
   "cell_type": "code",
   "execution_count": null,
   "metadata": {},
   "outputs": [],
   "source": []
  }
 ],
 "metadata": {
  "kernelspec": {
   "display_name": "Python 3",
   "language": "python",
   "name": "python3"
  },
  "language_info": {
   "codemirror_mode": {
    "name": "ipython",
    "version": 3
   },
   "file_extension": ".py",
   "mimetype": "text/x-python",
   "name": "python",
   "nbconvert_exporter": "python",
   "pygments_lexer": "ipython3",
   "version": "3.7.3"
  }
 },
 "nbformat": 4,
 "nbformat_minor": 2
}
